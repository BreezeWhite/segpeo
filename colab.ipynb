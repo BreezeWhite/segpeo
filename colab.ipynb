{
  "cells": [
    {
      "cell_type": "markdown",
      "source": [
        "# SEGPEO\n",
        "Segment people in the picture.\n",
        "\n",
        "Original Author: [SeanChan](https://github.com/cxgincsu)\n",
        "\n",
        "Provided By: [BreezeWhite](https://github.com/BreezeWhite)\n",
        "\n",
        "Github: https://github.com/BreezeWhite/segpeo"
      ],
      "metadata": {
        "id": "ZeygqJf6QYDs"
      }
    },
    {
      "cell_type": "code",
      "execution_count": null,
      "metadata": {
        "cellView": "form",
        "id": "8Thg3Tz9PI_a"
      },
      "outputs": [],
      "source": [
        "#@title Setup\n",
        "\n",
        "!pip install git+https://github.com/BreezeWhite/segpeo\n",
        "!mkdir images"
      ]
    },
    {
      "cell_type": "code",
      "execution_count": null,
      "metadata": {
        "cellView": "form",
        "id": "OdiZSySUPI_b"
      },
      "outputs": [],
      "source": [
        "#@title Upload Image\n",
        "\n",
        "import os\n",
        "from google.colab import files\n",
        "import IPython.display as dsp\n",
        "\n",
        "\n",
        "ff = files.upload()\n",
        "img_path = list(ff.keys())[0]\n",
        "\n",
        "!mv $img_path images\n",
        "\n",
        "img_path = os.path.join('images', img_path)\n",
        "dsp.display(dsp.Image(img_path))"
      ]
    },
    {
      "cell_type": "code",
      "execution_count": null,
      "metadata": {
        "cellView": "form",
        "id": "9WgpxMQFPI_b"
      },
      "outputs": [],
      "source": [
        "#@title Inference\n",
        "\n",
        "import IPython.display as dsp\n",
        "\n",
        "\n",
        "!segpeo --image-path $img_path\n",
        "\n",
        "out_name = os.path.splitext(os.path.basename(img_path))[0]\n",
        "out_path = os.path.join('images', out_name + '_mask.png')\n",
        "dsp.display(dsp.Image(out_path))"
      ]
    }
  ],
  "metadata": {
    "kernelspec": {
      "display_name": "segpeo",
      "language": "python",
      "name": "python3"
    },
    "language_info": {
      "name": "python",
      "version": "3.10.12 (main, Jul  5 2023, 15:02:25) [Clang 14.0.6 ]"
    },
    "orig_nbformat": 4,
    "vscode": {
      "interpreter": {
        "hash": "e1f73233bd4b84ef89d66a08033b4799c26487ade2d987884afe21c801b2a83b"
      }
    },
    "colab": {
      "provenance": []
    }
  },
  "nbformat": 4,
  "nbformat_minor": 0
}