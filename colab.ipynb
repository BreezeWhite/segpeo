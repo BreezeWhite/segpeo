{
 "cells": [
  {
   "cell_type": "code",
   "execution_count": null,
   "metadata": {},
   "outputs": [],
   "source": [
    "#@title Setup\n",
    "\n",
    "!git clone https://github.com/BreezeWhite/segpeo\n",
    "%cd segpeo\n",
    "!pip install -r requirements.txt\n",
    "!wget \"https://github.com/BreezeWhite/segpeo/releases/download/checkpoints/SGHM-ResNet50.pth\" -O SGHM-ResNet50.pth\n",
    "!mkdir images"
   ]
  },
  {
   "cell_type": "code",
   "execution_count": null,
   "metadata": {},
   "outputs": [],
   "source": [
    "#@title Upload Image\n",
    "\n",
    "import os\n",
    "from google.colab import files\n",
    "import IPython.display as dsp\n",
    "\n",
    "\n",
    "ff = files.upload()\n",
    "img_path = list(ff.keys())[0]\n",
    "\n",
    "!mv $img_path images\n",
    "\n",
    "img_path = os.path.join('images', img_path)\n",
    "dsp.display(dsp.Image(img_path))"
   ]
  },
  {
   "cell_type": "code",
   "execution_count": null,
   "metadata": {},
   "outputs": [],
   "source": [
    "#@title Inference\n",
    "\n",
    "import IPython.display as dsp\n",
    "\n",
    "%run test_image.py --image-path $img_path --pretrained-weight SGHM-ResNet50.pth\n",
    "\n",
    "out_name = os.path.splitext(os.path.basename(img_path))[0]\n",
    "out_path = os.path.join('results', out_name + '.png')\n",
    "dsp.display(dsp.Image(out_path))"
   ]
  }
 ],
 "metadata": {
  "language_info": {
   "name": "python"
  },
  "orig_nbformat": 4
 },
 "nbformat": 4,
 "nbformat_minor": 2
}
